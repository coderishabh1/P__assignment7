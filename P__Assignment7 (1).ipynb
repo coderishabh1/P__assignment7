{
 "cells": [
  {
   "cell_type": "markdown",
   "id": "e3f78a2e-d766-4dd4-b69e-1687c0e0ae62",
   "metadata": {},
   "source": [
    "##ques1"
   ]
  },
  {
   "cell_type": "code",
   "execution_count": null,
   "id": "45d07b08-0df1-4cb6-8d1f-f557d0452c7a",
   "metadata": {},
   "outputs": [],
   "source": [
    "arr = []\n",
    "l = int (input())\n",
    "sum =0\n",
    "for i in range (0,l):\n",
    "    ele = int (input())\n",
    "    arr.append(ele)\n",
    "for i in range (0,l):\n",
    "    sum = sum + arr[i]\n",
    "    \n",
    "print (\"sum of the array elemenrts is :\",sum)"
   ]
  },
  {
   "cell_type": "markdown",
   "id": "b94a6578-0f79-4858-be2d-edc8e60c53bd",
   "metadata": {},
   "source": [
    "##Ques 2"
   ]
  },
  {
   "cell_type": "code",
   "execution_count": null,
   "id": "9755ba0f-412b-4603-a1fb-a4829ef4b719",
   "metadata": {},
   "outputs": [],
   "source": [
    "arr = []\n",
    "l = int (input())\n",
    "for i in range (0,l):\n",
    "    ele = int (input())\n",
    "    arr.append(ele)\n",
    "for i in range (l-1):\n",
    "    if(arr[i]<arr[i+1]):\n",
    "        continue\n",
    "    else:\n",
    "        arr[i+1]=arr[i]\n",
    "print(\"largest number is :\",arr[l-1])"
   ]
  },
  {
   "cell_type": "markdown",
   "id": "fae00bad-824e-4903-be14-299f2b19173e",
   "metadata": {},
   "source": [
    "##ques3"
   ]
  },
  {
   "cell_type": "code",
   "execution_count": null,
   "id": "2a67b1d4-30db-4b38-b701-8fe673d3641f",
   "metadata": {},
   "outputs": [],
   "source": [
    "arr = []\n",
    "l = int (input())\n",
    "l1=int (l/2)\n",
    "for i in range (0,l):\n",
    "    ele = int (input())\n",
    "    arr.append(ele)\n",
    "for i in range (l1):\n",
    "    arr[i],arr[(l-1)-i]=arr[(l-1)-i],arr[i]\n",
    "print (arr)"
   ]
  },
  {
   "cell_type": "markdown",
   "id": "7acd85e6-cff9-4bcd-af25-717e7233f7f6",
   "metadata": {},
   "source": [
    "##Ques5"
   ]
  },
  {
   "cell_type": "code",
   "execution_count": null,
   "id": "c618d3c2-bef7-4344-8248-72941003676c",
   "metadata": {},
   "outputs": [],
   "source": [
    "\n",
    "arr = []\n",
    "l = int (input())\n",
    "count =1\n",
    "count1=1\n",
    "for i in range (0,l):\n",
    "    ele = int (input())\n",
    "    arr.append(ele)\n",
    "for i in range (l-1):\n",
    "    if (arr[i]>arr[i+1]):\n",
    "        count = count +1 \n",
    "    if (arr[i]<arr[i+1]):\n",
    "        count1= count1+1\n",
    "if (count==l or count1==l):\n",
    "    print (\"array is monotonic\")\n",
    "else:\n",
    "    print(\"array is NOT monotonic\")"
   ]
  },
  {
   "cell_type": "markdown",
   "id": "ecfe4676-8249-444d-8499-a8f333913c04",
   "metadata": {},
   "source": [
    "##ques 4"
   ]
  },
  {
   "cell_type": "code",
   "execution_count": null,
   "id": "c195b4e3-9cf4-400f-8a73-b66917cb09f5",
   "metadata": {},
   "outputs": [],
   "source": [
    "#split array into two equal parts because in question there is no condition about the split\n",
    "arr = []\n",
    "l = int (input())\n",
    "l1=int (l/2)\n",
    "for i in range (0,l):\n",
    "    ele = int (input())\n",
    "    arr.append(ele)\n",
    "for i in range (l1):\n",
    "    if (i<=0):\n",
    "        arr.append(arr[i])\n",
    "        arr.remove(arr[i])\n",
    "    else:\n",
    "        i=0\n",
    "        arr.append(arr[i])\n",
    "        arr.remove(arr[i])\n",
    "print(arr)"
   ]
  }
 ],
 "metadata": {
  "kernelspec": {
   "display_name": "Python 3 (ipykernel)",
   "language": "python",
   "name": "python3"
  },
  "language_info": {
   "codemirror_mode": {
    "name": "ipython",
    "version": 3
   },
   "file_extension": ".py",
   "mimetype": "text/x-python",
   "name": "python",
   "nbconvert_exporter": "python",
   "pygments_lexer": "ipython3",
   "version": "3.10.6"
  }
 },
 "nbformat": 4,
 "nbformat_minor": 5
}
